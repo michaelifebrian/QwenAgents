{
  "nbformat": 4,
  "nbformat_minor": 0,
  "metadata": {
    "colab": {
      "provenance": []
    },
    "kernelspec": {
      "name": "python3",
      "display_name": "Python 3"
    },
    "language_info": {
      "name": "python"
    }
  },
  "cells": [
    {
      "cell_type": "code",
      "execution_count": null,
      "metadata": {
        "id": "liEKRC3SNAsx"
      },
      "outputs": [],
      "source": [
        "!git clone https://github.com/michaelifebrian/QwenAgents\n",
        "!mv -v /content/QwenAgents/* /content\n",
        "!rm -r QwenAgents\n",
        "!pip -q install pyngrok\n",
        "!pip -q install ngrok\n",
        "!pip -q install selenium\n",
        "!pip -q install markdownify\n",
        "!pip -q install duckduckgo-search\n",
        "!pip -q install sseclient-py\n",
        "!ngrok config add-authtoken <ngrok_authtoken>"
      ]
    },
    {
      "cell_type": "code",
      "source": [
        "# Don't forget to configure the API before running\n",
        "!python3 app.py"
      ],
      "metadata": {
        "id": "wNXePJI3NCCv"
      },
      "execution_count": null,
      "outputs": []
    }
  ]
}